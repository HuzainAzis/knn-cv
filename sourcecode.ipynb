{
  "nbformat": 4,
  "nbformat_minor": 0,
  "metadata": {
    "kernelspec": {
      "display_name": "Python 3",
      "language": "python",
      "name": "python3"
    },
    "language_info": {
      "codemirror_mode": {
        "name": "ipython",
        "version": 3
      },
      "file_extension": ".py",
      "mimetype": "text/x-python",
      "name": "python",
      "nbconvert_exporter": "python",
      "pygments_lexer": "ipython3",
      "version": "3.7.4"
    },
    "colab": {
      "name": "sourcecode.ipynb",
      "provenance": [],
      "toc_visible": true,
      "include_colab_link": true
    }
  },
  "cells": [
    {
      "cell_type": "markdown",
      "metadata": {
        "id": "view-in-github",
        "colab_type": "text"
      },
      "source": [
        "<a href=\"https://colab.research.google.com/github/HuzainAzis/knn-cv/blob/master/sourcecode.ipynb\" target=\"_parent\"><img src=\"https://colab.research.google.com/assets/colab-badge.svg\" alt=\"Open In Colab\"/></a>"
      ]
    },
    {
      "cell_type": "markdown",
      "metadata": {
        "id": "0x0r-K9CFmBB",
        "colab_type": "text"
      },
      "source": [
        ""
      ]
    },
    {
      "cell_type": "code",
      "metadata": {
        "id": "5xUlXnPkFnck",
        "colab_type": "code",
        "outputId": "8f32f3dd-f062-41cb-d475-42b0e230e928",
        "colab": {
          "base_uri": "https://localhost:8080/",
          "height": 33
        }
      },
      "source": [
        "from google.colab import drive\n",
        "drive.mount('/content/drive')"
      ],
      "execution_count": 276,
      "outputs": [
        {
          "output_type": "stream",
          "text": [
            "Drive already mounted at /content/drive; to attempt to forcibly remount, call drive.mount(\"/content/drive\", force_remount=True).\n"
          ],
          "name": "stdout"
        }
      ]
    },
    {
      "cell_type": "code",
      "metadata": {
        "id": "jHgN_zGVAzoz",
        "colab_type": "code",
        "colab": {}
      },
      "source": [
        "import pandas as pd\n",
        "import numpy as np\n",
        "import math\n",
        "\n",
        "from sklearn.model_selection import train_test_split\n",
        "from sklearn.preprocessing import StandardScaler\n",
        "from sklearn.neighbors import KNeighborsClassifier\n",
        "from sklearn.naive_bayes import GaussianNB\n",
        "\n",
        "from sklearn.metrics import confusion_matrix\n",
        "from sklearn.metrics import f1_score\n",
        "from sklearn.metrics import accuracy_score\n",
        "from sklearn.metrics import precision_score\n",
        "from sklearn.metrics import recall_score\n",
        "from sklearn.metrics import classification_report\n",
        "\n",
        "from matplotlib import pyplot as plt\n"
      ],
      "execution_count": 0,
      "outputs": []
    },
    {
      "cell_type": "code",
      "metadata": {
        "id": "tFMkAAMkAzo5",
        "colab_type": "code",
        "outputId": "681e1a4a-2bb9-4fb8-dce0-fa19745e03ba",
        "colab": {
          "base_uri": "https://localhost:8080/",
          "height": 440
        }
      },
      "source": [
        "#load dataset\n",
        "datatrain = pd.read_csv('/content/drive/My Drive/dataset/inggrid/dataset8020train-test/dataset8020train_10.csv')\n",
        "datatest = pd.read_csv('/content/drive/My Drive/dataset/inggrid/dataset8020train-test/dataset8020test_10.csv')\n",
        "#dataset.Type.value_count().plot(kind= \"bar\")\n",
        "print (len(datatrain))\n",
        "print (len(datatest))\n",
        "datatrain"
      ],
      "execution_count": 278,
      "outputs": [
        {
          "output_type": "stream",
          "text": [
            "900\n",
            "100\n"
          ],
          "name": "stdout"
        },
        {
          "output_type": "execute_result",
          "data": {
            "text/html": [
              "<div>\n",
              "<style scoped>\n",
              "    .dataframe tbody tr th:only-of-type {\n",
              "        vertical-align: middle;\n",
              "    }\n",
              "\n",
              "    .dataframe tbody tr th {\n",
              "        vertical-align: top;\n",
              "    }\n",
              "\n",
              "    .dataframe thead th {\n",
              "        text-align: right;\n",
              "    }\n",
              "</style>\n",
              "<table border=\"1\" class=\"dataframe\">\n",
              "  <thead>\n",
              "    <tr style=\"text-align: right;\">\n",
              "      <th></th>\n",
              "      <th>id</th>\n",
              "      <th>age</th>\n",
              "      <th>gender</th>\n",
              "      <th>height</th>\n",
              "      <th>weight</th>\n",
              "      <th>ap_hi</th>\n",
              "      <th>ap_lo</th>\n",
              "      <th>cholesterol</th>\n",
              "      <th>gluc</th>\n",
              "      <th>smoke</th>\n",
              "      <th>alco</th>\n",
              "      <th>active</th>\n",
              "      <th>cardio</th>\n",
              "    </tr>\n",
              "  </thead>\n",
              "  <tbody>\n",
              "    <tr>\n",
              "      <th>0</th>\n",
              "      <td>1040</td>\n",
              "      <td>18996</td>\n",
              "      <td>1</td>\n",
              "      <td>179</td>\n",
              "      <td>129.0</td>\n",
              "      <td>140</td>\n",
              "      <td>90</td>\n",
              "      <td>3</td>\n",
              "      <td>3</td>\n",
              "      <td>0</td>\n",
              "      <td>0</td>\n",
              "      <td>0</td>\n",
              "      <td>1</td>\n",
              "    </tr>\n",
              "    <tr>\n",
              "      <th>1</th>\n",
              "      <td>1041</td>\n",
              "      <td>21298</td>\n",
              "      <td>1</td>\n",
              "      <td>159</td>\n",
              "      <td>63.0</td>\n",
              "      <td>110</td>\n",
              "      <td>70</td>\n",
              "      <td>3</td>\n",
              "      <td>3</td>\n",
              "      <td>0</td>\n",
              "      <td>0</td>\n",
              "      <td>1</td>\n",
              "      <td>1</td>\n",
              "    </tr>\n",
              "    <tr>\n",
              "      <th>2</th>\n",
              "      <td>1043</td>\n",
              "      <td>19681</td>\n",
              "      <td>2</td>\n",
              "      <td>165</td>\n",
              "      <td>72.0</td>\n",
              "      <td>120</td>\n",
              "      <td>80</td>\n",
              "      <td>1</td>\n",
              "      <td>1</td>\n",
              "      <td>0</td>\n",
              "      <td>0</td>\n",
              "      <td>1</td>\n",
              "      <td>1</td>\n",
              "    </tr>\n",
              "    <tr>\n",
              "      <th>3</th>\n",
              "      <td>1045</td>\n",
              "      <td>21023</td>\n",
              "      <td>1</td>\n",
              "      <td>170</td>\n",
              "      <td>81.0</td>\n",
              "      <td>170</td>\n",
              "      <td>90</td>\n",
              "      <td>3</td>\n",
              "      <td>3</td>\n",
              "      <td>0</td>\n",
              "      <td>0</td>\n",
              "      <td>0</td>\n",
              "      <td>1</td>\n",
              "    </tr>\n",
              "    <tr>\n",
              "      <th>4</th>\n",
              "      <td>1052</td>\n",
              "      <td>22801</td>\n",
              "      <td>1</td>\n",
              "      <td>164</td>\n",
              "      <td>79.0</td>\n",
              "      <td>130</td>\n",
              "      <td>80</td>\n",
              "      <td>3</td>\n",
              "      <td>2</td>\n",
              "      <td>0</td>\n",
              "      <td>0</td>\n",
              "      <td>1</td>\n",
              "      <td>1</td>\n",
              "    </tr>\n",
              "    <tr>\n",
              "      <th>...</th>\n",
              "      <td>...</td>\n",
              "      <td>...</td>\n",
              "      <td>...</td>\n",
              "      <td>...</td>\n",
              "      <td>...</td>\n",
              "      <td>...</td>\n",
              "      <td>...</td>\n",
              "      <td>...</td>\n",
              "      <td>...</td>\n",
              "      <td>...</td>\n",
              "      <td>...</td>\n",
              "      <td>...</td>\n",
              "      <td>...</td>\n",
              "    </tr>\n",
              "    <tr>\n",
              "      <th>895</th>\n",
              "      <td>1101</td>\n",
              "      <td>17285</td>\n",
              "      <td>1</td>\n",
              "      <td>167</td>\n",
              "      <td>75.0</td>\n",
              "      <td>100</td>\n",
              "      <td>70</td>\n",
              "      <td>1</td>\n",
              "      <td>1</td>\n",
              "      <td>0</td>\n",
              "      <td>0</td>\n",
              "      <td>1</td>\n",
              "      <td>0</td>\n",
              "    </tr>\n",
              "    <tr>\n",
              "      <th>896</th>\n",
              "      <td>1106</td>\n",
              "      <td>16003</td>\n",
              "      <td>1</td>\n",
              "      <td>159</td>\n",
              "      <td>77.0</td>\n",
              "      <td>120</td>\n",
              "      <td>80</td>\n",
              "      <td>1</td>\n",
              "      <td>1</td>\n",
              "      <td>0</td>\n",
              "      <td>0</td>\n",
              "      <td>1</td>\n",
              "      <td>0</td>\n",
              "    </tr>\n",
              "    <tr>\n",
              "      <th>897</th>\n",
              "      <td>1107</td>\n",
              "      <td>22826</td>\n",
              "      <td>1</td>\n",
              "      <td>162</td>\n",
              "      <td>65.0</td>\n",
              "      <td>140</td>\n",
              "      <td>90</td>\n",
              "      <td>3</td>\n",
              "      <td>3</td>\n",
              "      <td>0</td>\n",
              "      <td>0</td>\n",
              "      <td>1</td>\n",
              "      <td>0</td>\n",
              "    </tr>\n",
              "    <tr>\n",
              "      <th>898</th>\n",
              "      <td>1111</td>\n",
              "      <td>23203</td>\n",
              "      <td>2</td>\n",
              "      <td>172</td>\n",
              "      <td>74.0</td>\n",
              "      <td>140</td>\n",
              "      <td>70</td>\n",
              "      <td>2</td>\n",
              "      <td>1</td>\n",
              "      <td>1</td>\n",
              "      <td>0</td>\n",
              "      <td>1</td>\n",
              "      <td>0</td>\n",
              "    </tr>\n",
              "    <tr>\n",
              "      <th>899</th>\n",
              "      <td>1112</td>\n",
              "      <td>22711</td>\n",
              "      <td>2</td>\n",
              "      <td>171</td>\n",
              "      <td>68.0</td>\n",
              "      <td>120</td>\n",
              "      <td>80</td>\n",
              "      <td>1</td>\n",
              "      <td>1</td>\n",
              "      <td>0</td>\n",
              "      <td>0</td>\n",
              "      <td>0</td>\n",
              "      <td>0</td>\n",
              "    </tr>\n",
              "  </tbody>\n",
              "</table>\n",
              "<p>900 rows × 13 columns</p>\n",
              "</div>"
            ],
            "text/plain": [
              "       id    age  gender  height  weight  ...  gluc  smoke  alco  active  cardio\n",
              "0    1040  18996       1     179   129.0  ...     3      0     0       0       1\n",
              "1    1041  21298       1     159    63.0  ...     3      0     0       1       1\n",
              "2    1043  19681       2     165    72.0  ...     1      0     0       1       1\n",
              "3    1045  21023       1     170    81.0  ...     3      0     0       0       1\n",
              "4    1052  22801       1     164    79.0  ...     2      0     0       1       1\n",
              "..    ...    ...     ...     ...     ...  ...   ...    ...   ...     ...     ...\n",
              "895  1101  17285       1     167    75.0  ...     1      0     0       1       0\n",
              "896  1106  16003       1     159    77.0  ...     1      0     0       1       0\n",
              "897  1107  22826       1     162    65.0  ...     3      0     0       1       0\n",
              "898  1111  23203       2     172    74.0  ...     1      1     0       1       0\n",
              "899  1112  22711       2     171    68.0  ...     1      0     0       0       0\n",
              "\n",
              "[900 rows x 13 columns]"
            ]
          },
          "metadata": {
            "tags": []
          },
          "execution_count": 278
        }
      ]
    },
    {
      "cell_type": "code",
      "metadata": {
        "id": "B6XBRUM6AzpG",
        "colab_type": "code",
        "colab": {}
      },
      "source": [
        "#split target and attribute\n",
        "\n",
        "x_train = datatrain.iloc[:, 1:12]\n",
        "y_train = datatrain.iloc[:, 12]\n",
        "x_test = datatest.iloc[:, 1:12]\n",
        "y_test = datatest.iloc[:, 12]\n",
        "\n"
      ],
      "execution_count": 0,
      "outputs": []
    },
    {
      "cell_type": "code",
      "metadata": {
        "id": "ie2U_SZTAzpK",
        "colab_type": "code",
        "outputId": "3897956b-a215-4c0e-d482-7341d683359d",
        "colab": {
          "base_uri": "https://localhost:8080/",
          "height": 294
        }
      },
      "source": [
        "plt.figure(figsize=(5,4))\n",
        "plt.subplot(2,1,1);y_train.value_counts().plot(kind='bar', color=['C0','C1','C2','C3','C4','C5','C6']);plt.title('training')\n",
        "plt.subplot(2,1,2);y_test.value_counts().plot(kind='bar', color=['C0','C1','C2','C3','C4','C5','C6']);plt.title('testing')"
      ],
      "execution_count": 280,
      "outputs": [
        {
          "output_type": "execute_result",
          "data": {
            "text/plain": [
              "Text(0.5, 1.0, 'testing')"
            ]
          },
          "metadata": {
            "tags": []
          },
          "execution_count": 280
        },
        {
          "output_type": "display_data",
          "data": {
            "image/png": "[encoded data removed]",
            "text/plain": [
              "<Figure size 360x288 with 2 Axes>"
            ]
          },
          "metadata": {
            "tags": [],
            "needs_background": "light"
          }
        }
      ]
    },
    {
      "cell_type": "code",
      "metadata": {
        "id": "p_31aUdPAzpY",
        "colab_type": "code",
        "outputId": "5242e397-f37f-419b-de68-295f545ce4d3",
        "colab": {
          "base_uri": "https://localhost:8080/",
          "height": 233
        }
      },
      "source": [
        "# scaling data\n",
        "sc_x = StandardScaler()\n",
        "x_train = sc_x.fit_transform(x_train)\n",
        "x_test =sc_x.fit_transform(x_test)\n",
        "x_train"
      ],
      "execution_count": 281,
      "outputs": [
        {
          "output_type": "execute_result",
          "data": {
            "text/plain": [
              "array([[-0.35119491, -0.75      ,  1.72438997, ..., -0.32294656,\n",
              "        -0.22941573, -1.84709629],\n",
              "       [ 0.59399417, -0.75      , -0.64265185, ..., -0.32294656,\n",
              "        -0.22941573,  0.54139029],\n",
              "       [-0.06993751,  1.33333333,  0.06746069, ..., -0.32294656,\n",
              "        -0.22941573,  0.54139029],\n",
              "       ...,\n",
              "       [ 1.22138293, -0.75      , -0.28759558, ..., -0.32294656,\n",
              "        -0.22941573,  0.54139029],\n",
              "       [ 1.37617715,  1.33333333,  0.89592533, ...,  3.09648757,\n",
              "        -0.22941573,  0.54139029],\n",
              "       [ 1.17416454,  1.33333333,  0.77757324, ..., -0.32294656,\n",
              "        -0.22941573, -1.84709629]])"
            ]
          },
          "metadata": {
            "tags": []
          },
          "execution_count": 281
        }
      ]
    },
    {
      "cell_type": "code",
      "metadata": {
        "id": "zmxhdr2MAzpg",
        "colab_type": "code",
        "outputId": "e4dd4e54-e50a-4517-ab33-0858f1e8e28d",
        "colab": {
          "base_uri": "https://localhost:8080/",
          "height": 33
        }
      },
      "source": [
        "math.sqrt(900)"
      ],
      "execution_count": 282,
      "outputs": [
        {
          "output_type": "execute_result",
          "data": {
            "text/plain": [
              "30.0"
            ]
          },
          "metadata": {
            "tags": []
          },
          "execution_count": 282
        }
      ]
    },
    {
      "cell_type": "code",
      "metadata": {
        "id": "OOAVjJi7Azpm",
        "colab_type": "code",
        "outputId": "d04feca8-ed78-4c30-bd75-7e6561d59dd4",
        "colab": {
          "base_uri": "https://localhost:8080/",
          "height": 150
        }
      },
      "source": [
        "akurasi = 0\n",
        "for x in range(2,900): \n",
        "    #choose method and fitting\n",
        "    classifier = KNeighborsClassifier(n_neighbors=x,p=2,metric='euclidean')\n",
        "    classifier.fit(x_train, y_train)\n",
        "\n",
        "    #testing data\n",
        "    y_pred = classifier.predict(x_test)\n",
        "\n",
        "    #print result\n",
        "    cm = confusion_matrix(y_test, y_pred)\n",
        "    tertinggi = accuracy_score(y_test, y_pred)\n",
        "    if tertinggi >= akurasi:\n",
        "        akurasi = tertinggi\n",
        "        cmx = cm\n",
        "        k = x\n",
        "        a = accuracy_score(y_test, y_pred)\n",
        "        p = precision_score(y_test, y_pred,average=None)\n",
        "        r = recall_score(y_test, y_pred,average=None)\n",
        "        f = f1_score(y_test, y_pred,average=None)\n",
        "print(\"K :\" , k)\n",
        "print(cmx)\n",
        "print(\"Akurasi :\" , a)\n",
        "print(\"presisi :\" , p)\n",
        "print(\"recall :\" , r)\n",
        "print(\"F-Score :\" , f)\n",
        "print(\"--------------------------------------------\")"
      ],
      "execution_count": 283,
      "outputs": [
        {
          "output_type": "stream",
          "text": [
            "K : 5\n",
            "[[12  8]\n",
            " [ 1 79]]\n",
            "Akurasi : 0.91\n",
            "presisi : [0.92307692 0.90804598]\n",
            "recall : [0.6    0.9875]\n",
            "F-Score : [0.72727273 0.94610778]\n",
            "--------------------------------------------\n"
          ],
          "name": "stdout"
        }
      ]
    },
    {
      "cell_type": "code",
      "metadata": {
        "id": "84pcbYxoAzp1",
        "colab_type": "code",
        "outputId": "abca5d08-c8a0-4fe7-a50f-4fafe0e2d6b1",
        "colab": {
          "base_uri": "https://localhost:8080/",
          "height": 294
        }
      },
      "source": [
        "from matplotlib import pyplot as plot\n",
        "x = [\"cv1\", \"cv2\", \"cv3\", \"cv4\", \"cv5\", \"cv6\", \"cv7\", \"cv8\", \"cv9\", \"cv10\"]\n",
        "a= [87,84,84,84,85,80,83,81,84,85]\n",
        "p= [87,84,83,1,12,10,5,0,1,12]\n",
        "r= [97,97,100,98,92,90,91,93,98,92]\n",
        "f= [92,90,91,77,99,40,23,45,77,99]\n",
        "plt.plot(x, a, '--')\n",
        "plt.plot(x, p, '--')\n",
        "plt.plot(x, r, '--')\n",
        "plt.plot(x, f, '--')\n",
        "plt.title(\"grafik result dataset 2080\")\n",
        "plt.xlabel(\"cross validation\")\n",
        "plt.ylabel(\"performa\")\n",
        "plt.legend([\"akurasi\",\"presisi\", \"recall\", \"f1-score\"])\n",
        "plt.grid()\n",
        "plt.show()"
      ],
      "execution_count": 286,
      "outputs": [
        {
          "output_type": "display_data",
          "data": {
            "image/png": "[encoded data removed]",
            "text/plain": [
              "<Figure size 432x288 with 1 Axes>"
            ]
          },
          "metadata": {
            "tags": [],
            "needs_background": "light"
          }
        }
      ]
    },
    {
      "cell_type": "code",
      "metadata": {
        "id": "tnnEBFnQ9W3r",
        "colab_type": "code",
        "colab": {
          "base_uri": "https://localhost:8080/",
          "height": 294
        },
        "outputId": "97cd122d-1ca8-4824-9b5a-ea685f8529c2"
      },
      "source": [
        "from matplotlib import pyplot as plot\n",
        "x = [\"cv1\", \"cv2\", \"cv3\", \"cv4\", \"cv5\", \"cv6\", \"cv7\", \"cv8\", \"cv9\", \"cv10\"]\n",
        "a= [80,80,81,84,85,80,83,81,84,85]\n",
        "p= [10,80,0,1,12,10,5,0,1,12]\n",
        "r= [90,100,93,98,92,90,91,93,98,92]\n",
        "f= [40,88,45,77,99,40,23,45,77,99]\n",
        "plt.plot(x, a, '--')\n",
        "plt.plot(x, p, '--')\n",
        "plt.plot(x, r, '--')\n",
        "plt.plot(x, f, '--')\n",
        "plt.title(\"grafik result dataset 8020\")\n",
        "plt.xlabel(\"cross validation\")\n",
        "plt.ylabel(\"performa\")\n",
        "plt.legend([\"akurasi\",\"presisi\", \"recall\", \"f1-score\"])\n",
        "plt.grid()\n",
        "plt.show()"
      ],
      "execution_count": 287,
      "outputs": [
        {
          "output_type": "display_data",
          "data": {
            "image/png": "[encoded data removed]",
            "text/plain": [
              "<Figure size 432x288 with 1 Axes>"
            ]
          },
          "metadata": {
            "tags": [],
            "needs_background": "light"
          }
        }
      ]
    },
    {
      "cell_type": "code",
      "metadata": {
        "id": "68lS2WZ4M46D",
        "colab_type": "code",
        "outputId": "1ddc5df1-6a35-4ab2-f5c4-b6f67aa175d0",
        "colab": {
          "base_uri": "https://localhost:8080/",
          "height": 386
        }
      },
      "source": [
        "fig1, ax1 = plt.subplots(figsize=(10,5))\n",
        "\n",
        "# perubahan nilai k\n",
        "all_data = [\n",
        "            [77,78,71,68,70,65],\n",
        "            [82,68,70,64,76,67,62,71],\n",
        "            [75,74,71,68,64,73],\n",
        "            [74,69,68,70,59,71],\n",
        "            [76,72,73,70,61,71],\n",
        "            [73,71,72,61,70,74,68],\n",
        "            [76,72,73,70,71,60],\n",
        "            [70,73,61,74],\n",
        "            [67,64,75,72,70,71,69],\n",
        "            [75,70,80,69,66,64,74,63]\n",
        "          ]\n",
        "print(all_data)\n",
        "\n",
        "# plot box plot\n",
        "ax1.boxplot(all_data)\n",
        "ax1.set_title('grafik ketahanan nilaik k - dataset 5050')\n",
        "\n",
        "#adding horizontal grid lines\n",
        "\n",
        "ax1.yaxis.grid(True)\n",
        "ax1.set_xticks([y +1 for y in range(len(all_data))])\n",
        "ax1.set_xlabel('sebaran nilai K')\n",
        "ax1.set_ylabel('performa')\n",
        "\n",
        "#add x-tick labels\n",
        "plt.setp(ax1, xticks=[y+1 for y in range(len(all_data))],\n",
        "         xticklabels=[ 'k=57','k=20','k=123','k=425','k=355','k=241','k=357','k=222','k=117','k=35'])\n",
        "plt.show()"
      ],
      "execution_count": 285,
      "outputs": [
        {
          "output_type": "stream",
          "text": [
            "[[77, 78, 71, 68, 70, 65], [82, 68, 70, 64, 76, 67, 62, 71], [75, 74, 71, 68, 64, 73], [74, 69, 68, 70, 59, 71], [76, 72, 73, 70, 61, 71], [73, 71, 72, 61, 70, 74, 68], [76, 72, 73, 70, 71, 60], [70, 73, 61, 74], [67, 64, 75, 72, 70, 71, 69], [75, 70, 80, 69, 66, 64, 74, 63]]\n"
          ],
          "name": "stdout"
        },
        {
          "output_type": "display_data",
          "data": {
            "image/png": "[encoded data removed]",
            "text/plain": [
              "<Figure size 720x360 with 1 Axes>"
            ]
          },
          "metadata": {
            "tags": [],
            "needs_background": "light"
          }
        }
      ]
    },
    {
      "cell_type": "code",
      "metadata": {
        "id": "rCsQEMlAAzp4",
        "colab_type": "code",
        "colab": {}
      },
      "source": [
        ""
      ],
      "execution_count": 0,
      "outputs": []
    }
  ]
}